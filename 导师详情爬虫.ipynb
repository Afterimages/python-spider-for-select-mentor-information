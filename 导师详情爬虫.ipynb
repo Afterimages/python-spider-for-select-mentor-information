{
 "cells": [
  {
   "cell_type": "code",
   "execution_count": null,
   "id": "b119476e",
   "metadata": {},
   "outputs": [],
   "source": [
    "import pandas as pd\n",
    "from selenium import webdriver\n",
    "from selenium.webdriver.common.keys import Keys\n",
    "from selenium.webdriver.common.by import By\n",
    "from selenium.webdriver.chrome.service import Service\n",
    "from selenium.webdriver.chrome.options import Options\n",
    "from selenium.webdriver.support.ui import WebDriverWait\n",
    "from selenium.webdriver.support import expected_conditions as EC\n",
    "from selenium.webdriver.common.keys import Keys\n",
    "import time"
   ]
  },
  {
   "cell_type": "code",
   "execution_count": null,
   "id": "21166b4d",
   "metadata": {},
   "outputs": [],
   "source": [
    "# 准备数据\n",
    "\n",
    "df = pd.read_excel(\"硕士信息大表（学生版）.xlsx\")\n",
    "df = df.dropna()[\"导一\"]"
   ]
  },
  {
   "cell_type": "code",
   "execution_count": null,
   "id": "a49f7cf2",
   "metadata": {
    "scrolled": false
   },
   "outputs": [],
   "source": [
    "\n",
    "\n",
    "# 配置 Selenium WebDriver (确保你已经下载并配置好 ChromeDriver 或其他浏览器驱动)\n",
    "driver = webdriver.Chrome()  # 如果你用的是 Chrome 浏览器\n",
    "driver.get(\"https://www.bing.com\")\n",
    "\n",
    "# 定义一个空列表，用来存储搜索结果地址\n",
    "results = []\n",
    "\n",
    "time.sleep(2)  # 等待页面加载\n",
    "\n",
    "# 遍历每个名字并进行搜索\n",
    "for name in df['导一']:\n",
    "    search_query = f\"{name} - 哈尔滨工业大学教师个人主页 - HIT\"\n",
    "    \n",
    "    # 找到 Bing 搜索框并输入查询内容\n",
    "    search_box = driver.find_element(By.NAME, \"q\")\n",
    "    search_box.clear()\n",
    "    search_box.send_keys(search_query)\n",
    "    search_box.send_keys(Keys.RETURN)\n",
    "    \n",
    "    time.sleep(2)  # 等待页面加载\n",
    "    \n",
    "    # 获取第一个搜索结果的地址\n",
    "    try:\n",
    "        first_result = driver.find_element(By.CSS_SELECTOR, \"li.b_algo h2 a\")\n",
    "        first_result_url = first_result.get_attribute(\"href\")\n",
    "    except Exception as e:\n",
    "        first_result_url = \"未找到结果\"\n",
    "    \n",
    "    results.append(first_result_url)\n",
    "    time.sleep(1)  # 等待页面加载\n",
    "\n",
    "# 将结果添加到 DataFrame 新的一列\n",
    "df['url'] = results\n",
    "\n",
    "# 关闭浏览器\n",
    "driver.quit()\n",
    "\n",
    "# 显示带有新列的 DataFrame\n",
    "print(df)\n"
   ]
  },
  {
   "cell_type": "markdown",
   "id": "a283dff3",
   "metadata": {},
   "source": [
    "!pip install urllib3==2.1.0\n"
   ]
  },
  {
   "cell_type": "code",
   "execution_count": null,
   "id": "7dcfa51c",
   "metadata": {
    "scrolled": true
   },
   "outputs": [],
   "source": [
    "\n",
    "\n",
    "# 设置Chrome选项\n",
    "chrome_options = Options()\n",
    "chrome_options.add_argument(\"--headless\")  # 无头模式，不打开浏览器窗口\n",
    "chrome_options.add_argument(\"--disable-gpu\")  # 如果系统不支持GPU加速，禁用它\n",
    "chrome_options.add_argument(\"--no-sandbox\")  # 必要时禁用沙箱\n",
    "\n",
    "# 指定chromedriver的路径\n",
    "service = Service()  # 请将/path/to/chromedriver替换为你的chromedriver路径\n",
    "driver = webdriver.Chrome(service=service, options=chrome_options)\n",
    "\n",
    "# 用于存储每个页面的内容\n",
    "content_list = []\n",
    "\n",
    "try:\n",
    "    for index, row in df.iterrows():\n",
    "        url = row[\"url\"]\n",
    "        driver.get(url)\n",
    "        \n",
    "        try:\n",
    "\n",
    "            # 等待页面加载完成，最长等待时间10秒\n",
    "            WebDriverWait(driver, 10).until(\n",
    "                EC.presence_of_element_located((By.CLASS_NAME, \"part_box\"))\n",
    "            )\n",
    "\n",
    "            # 获取带有class=\"editor_content\"的div内容\n",
    "            part_boxes = driver.find_elements(By.CLASS_NAME, 'part_box')\n",
    "            if len(part_boxes) < 2:\n",
    "                print(None)  \n",
    "                content_list.append(None) # 如果没有第二个 'part_box'，返回 None\n",
    "                continue\n",
    "\n",
    "            second_part_box = part_boxes[1]\n",
    "\n",
    "            div_element = second_part_box.find_element(By.CLASS_NAME, 'editor_content')\n",
    "\n",
    "            # 获取文本内容，包括伪元素\n",
    "            content = driver.execute_script(\"return window.getComputedStyle(arguments[0], '::before').getPropertyValue('content') + arguments[0].textContent + window.getComputedStyle(arguments[0], '::after').getPropertyValue('content');\", div_element)\n",
    "\n",
    "            # 将内容添加到列表\n",
    "            content_list.append(content)\n",
    "        except Exception as e:\n",
    "            print(f\"抓取 {url} 时出错：{e}\")  # 如果出现错误，打印错误信息\n",
    "            content_list.append(None)\n",
    "\n",
    "finally:\n",
    "    driver.quit()\n",
    "\n",
    "# 将内容保存回DataFrame中\n",
    "df['editor_content'] = content_list\n",
    "\n",
    "# 输出结果\n",
    "print(df)\n"
   ]
  },
  {
   "cell_type": "code",
   "execution_count": null,
   "id": "87c43e5f",
   "metadata": {},
   "outputs": [],
   "source": [
    "df"
   ]
  },
  {
   "cell_type": "code",
   "execution_count": null,
   "id": "c5b97429",
   "metadata": {},
   "outputs": [],
   "source": [
    "df.to_excel('output.xlsx', encoding=\"utf-8\",index=False)"
   ]
  },
  {
   "cell_type": "code",
   "execution_count": null,
   "id": "4dde5da1",
   "metadata": {},
   "outputs": [],
   "source": []
  }
 ],
 "metadata": {
  "kernelspec": {
   "display_name": "Python 3",
   "language": "python",
   "name": "python3"
  },
  "language_info": {
   "codemirror_mode": {
    "name": "ipython",
    "version": 3
   },
   "file_extension": ".py",
   "mimetype": "text/x-python",
   "name": "python",
   "nbconvert_exporter": "python",
   "pygments_lexer": "ipython3",
   "version": "3.8.8"
  }
 },
 "nbformat": 4,
 "nbformat_minor": 5
}
